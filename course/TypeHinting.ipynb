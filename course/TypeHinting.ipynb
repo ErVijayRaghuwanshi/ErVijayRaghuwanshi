{
 "cells": [
  {
   "cell_type": "code",
   "execution_count": null,
   "metadata": {},
   "outputs": [
    {
     "name": "stdout",
     "output_type": "stream",
     "text": [
      "John Doe\n"
     ]
    }
   ],
   "source": [
    "def get_full_name(firstname:str, lastname:str):\n",
    "    full_name = firstname.title() + \" \" + lastname.title()\n",
    "    return full_name\n",
    "\n",
    "print(get_full_name('john', 'doe'))"
   ]
  },
  {
   "cell_type": "code",
   "execution_count": null,
   "metadata": {},
   "outputs": [],
   "source": [
    "def get_name_with_age(name:str, age:int):\n",
    "    name_with_age = name + \"is this old: \" + age\n",
    "    return name_with_age"
   ]
  },
  {
   "cell_type": "code",
   "execution_count": 3,
   "metadata": {},
   "outputs": [],
   "source": [
    "# Generic types with type parameters\n",
    "def process_items(items: list[str]):\n",
    "    for item in items:\n",
    "        print(item)"
   ]
  },
  {
   "cell_type": "code",
   "execution_count": null,
   "metadata": {},
   "outputs": [],
   "source": [
    "# Union \n",
    "\n",
    "def say_hi(name: str | None):\n",
    "    print(f\"Hey {name}\")"
   ]
  }
 ],
 "metadata": {
  "kernelspec": {
   "display_name": "Python 3",
   "language": "python",
   "name": "python3"
  },
  "language_info": {
   "codemirror_mode": {
    "name": "ipython",
    "version": 3
   },
   "file_extension": ".py",
   "mimetype": "text/x-python",
   "name": "python",
   "nbconvert_exporter": "python",
   "pygments_lexer": "ipython3",
   "version": "3.13.0"
  }
 },
 "nbformat": 4,
 "nbformat_minor": 2
}
